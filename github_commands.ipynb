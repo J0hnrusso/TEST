{
  "nbformat": 4,
  "nbformat_minor": 0,
  "metadata": {
    "colab": {
      "provenance": [],
      "include_colab_link": true
    },
    "kernelspec": {
      "name": "python3",
      "display_name": "Python 3"
    },
    "language_info": {
      "name": "python"
    }
  },
  "cells": [
    {
      "cell_type": "markdown",
      "metadata": {
        "id": "view-in-github",
        "colab_type": "text"
      },
      "source": [
        "<a href=\"https://colab.research.google.com/github/J0hnrusso/TEST/blob/main/github_commands.ipynb\" target=\"_parent\"><img src=\"https://colab.research.google.com/assets/colab-badge.svg\" alt=\"Open In Colab\"/></a>"
      ]
    },
    {
      "cell_type": "markdown",
      "source": [
        "**Option 1: Clone a GitHub repo directly into Google Colab**\n",
        "\n",
        "If you're working inside a Colab notebook, you can run this:"
      ],
      "metadata": {
        "id": "5g9IEAiN5P7o"
      }
    },
    {
      "cell_type": "code",
      "execution_count": null,
      "metadata": {
        "id": "_dO8Q0b6z77Z",
        "outputId": "695591cc-7370-46c5-8ef3-b73792270c84",
        "colab": {
          "base_uri": "https://localhost:8080/"
        }
      },
      "outputs": [
        {
          "output_type": "stream",
          "name": "stdout",
          "text": [
            "Cloning into 'm0_test'...\n",
            "remote: Enumerating objects: 3, done.\u001b[K\n",
            "remote: Counting objects: 100% (3/3), done.\u001b[K\n",
            "remote: Total 3 (delta 0), reused 0 (delta 0), pack-reused 0 (from 0)\u001b[K\n",
            "Receiving objects: 100% (3/3), done.\n"
          ]
        }
      ],
      "source": [
        "!git clone https://github.com/username/repo-name.git"
      ]
    },
    {
      "cell_type": "markdown",
      "source": [
        "Option 2: Clone a GitHub repo into Google Drive (persists after Colab session ends)\n",
        "\n",
        "1- First, mount your Google Drive:"
      ],
      "metadata": {
        "id": "UWXyS2775a6z"
      }
    },
    {
      "cell_type": "code",
      "source": [
        "from google.colab import drive\n",
        "drive.mount('/content/drive')\n"
      ],
      "metadata": {
        "id": "6kaz934Q4vla",
        "colab": {
          "base_uri": "https://localhost:8080/"
        },
        "outputId": "0a8d47cb-ef7e-47c9-9b3e-92136cc4fe38"
      },
      "execution_count": null,
      "outputs": [
        {
          "output_type": "stream",
          "name": "stdout",
          "text": [
            "Mounted at /content/drive\n"
          ]
        }
      ]
    },
    {
      "cell_type": "markdown",
      "source": [
        "Then, clone the repo into a folder in your Drive:"
      ],
      "metadata": {
        "id": "m15818P85gf4"
      }
    },
    {
      "cell_type": "code",
      "source": [
        "!git clone https://github.com/username/repo-name.git /content/drive/MyDrive/your-folder-name"
      ],
      "metadata": {
        "id": "uzLZ1F8E5iPk"
      },
      "execution_count": null,
      "outputs": []
    },
    {
      "cell_type": "markdown",
      "source": [
        "Optional: Pull the latest updates later"
      ],
      "metadata": {
        "id": "4FuZo37x5m_o"
      }
    },
    {
      "cell_type": "code",
      "source": [
        "%cd /content/drive/MyDrive/your-folder-name\n",
        "!git pull"
      ],
      "metadata": {
        "id": "k2xzz3tb5l42"
      },
      "execution_count": null,
      "outputs": []
    },
    {
      "cell_type": "markdown",
      "source": [
        "Step-by-Step Git Workflow"
      ],
      "metadata": {
        "id": "mJ0UpobD6C4R"
      }
    },
    {
      "cell_type": "markdown",
      "source": [
        " Clone the repo (if you haven’t already)"
      ],
      "metadata": {
        "id": "9woeBz_S6N6Z"
      }
    },
    {
      "cell_type": "code",
      "source": [
        "git clone https://github.com/username/repo-name.git\n",
        "cd repo-name"
      ],
      "metadata": {
        "id": "7dy3yHrM6Ni7"
      },
      "execution_count": null,
      "outputs": []
    },
    {
      "cell_type": "markdown",
      "source": [
        "Create a new branch and switch to it"
      ],
      "metadata": {
        "id": "ruIEIHp-6SUa"
      }
    },
    {
      "cell_type": "code",
      "source": [
        "git checkout -b feature/your-branch-name"
      ],
      "metadata": {
        "id": "g4hg81Vz6M3f"
      },
      "execution_count": null,
      "outputs": []
    },
    {
      "cell_type": "markdown",
      "source": [
        "3. Make changes to a file\n",
        "Edit your file with any editor or inside Colab/Drive if you're working there."
      ],
      "metadata": {
        "id": "4aoEvWJw6Uds"
      }
    },
    {
      "cell_type": "code",
      "source": [
        "4. Stage and commit the change"
      ],
      "metadata": {
        "id": "KdF-kRnX6peC"
      },
      "execution_count": null,
      "outputs": []
    },
    {
      "cell_type": "code",
      "source": [
        "git add name-of-your-file.ext\n",
        "git commit -m \"Your descriptive commit message\""
      ],
      "metadata": {
        "id": "0bRbRyRI6Wlu"
      },
      "execution_count": null,
      "outputs": []
    },
    {
      "cell_type": "markdown",
      "source": [
        "5. Push the branch to GitHub"
      ],
      "metadata": {
        "id": "sCbQvmPC6tDx"
      }
    },
    {
      "cell_type": "code",
      "source": [
        "git push origin feature/your-branch-name"
      ],
      "metadata": {
        "id": "pimVZMoC6tqK"
      },
      "execution_count": null,
      "outputs": []
    },
    {
      "cell_type": "markdown",
      "source": [
        "6. Create a Pull Request (PR)\\\n",
        "You can now go to GitHub (your repo page), and you’ll see a “Compare & pull request” button.\n",
        "\n",
        "Alternatively, use GitHub CLI (optional, if installed):"
      ],
      "metadata": {
        "id": "LiMPB8WP6vhn"
      }
    },
    {
      "cell_type": "code",
      "source": [
        "gh pr create --base main --head feature/your-branch-name --title \"My PR title\" --body \"Description of what this PR does\"\n"
      ],
      "metadata": {
        "id": "gGUVhL0G6vP7"
      },
      "execution_count": null,
      "outputs": []
    }
  ]
}